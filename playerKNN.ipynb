{
 "cells": [
  {
   "cell_type": "code",
   "execution_count": 230,
   "metadata": {},
   "outputs": [],
   "source": [
    "import numpy as np\n",
    "import pandas as pd\n",
    "import matplotlib.pyplot as plt\n",
    "\n",
    "from utils import read_table"
   ]
  },
  {
   "cell_type": "markdown",
   "metadata": {},
   "source": [
    "Here we want to store player data to measure their similarity. To measure 2 player's similarity, we can be using multiple data points in multiple ways. Should we use only the last year's statistics, an average of the last couple, an average of all history, a list of the last couple, the list of history? PECOTA uses a three-year window... is that enough? If we use a list of a player's history, how do we deal with weights? Is there already research on this? How can we properly embbed player statistics in a vector... embeddings as a RNN output?\n",
    "\n",
    "- For now assumptions are all weights are equal and a 3 year window is taken. Constant statistics are not repeated but yearly statistics are given a new column each"
   ]
  },
  {
   "cell_type": "code",
   "execution_count": 231,
   "metadata": {},
   "outputs": [],
   "source": [
    "df = read_table(\"PlayerBatting\", random_subset = 1)\n"
   ]
  },
  {
   "cell_type": "code",
   "execution_count": 232,
   "metadata": {},
   "outputs": [],
   "source": [
    "def remove_last_year_for_each_player(df, players):\n",
    "    df = df.drop(len(players) - 1)\n",
    "    for i in range(len(players) - 1):\n",
    "        if players[i] != players[i+1]:\n",
    "            df = df.drop(i)\n",
    "    \n",
    "    return df.reset_index()"
   ]
  },
  {
   "cell_type": "code",
   "execution_count": 233,
   "metadata": {},
   "outputs": [],
   "source": [
    "df_bat = df.copy()\n",
    "\n",
    "df_bat[\"PA\"] = df_bat[\"AB\"] + df_bat[\"BB\"] + df_bat[\"IBB\"] + df_bat[\"HBP\"]\n",
    "df_bat[\"1B\"] = df_bat[\"H\"] - df_bat[\"2B\"] - df_bat[\"3B\"] - df_bat[\"HR\"]\n",
    "\n",
    "OnBaseP = (df_bat[\"BB\"] + df_bat[\"IBB\"] + df_bat[\"HBP\"] + df_bat[\"H\"]) / df_bat[\"PA\"]\n",
    "Slugging = (df_bat[\"1B\"] + 2*df_bat[\"2B\"] + 3*df_bat[\"3B\"] + 4*df_bat[\"HR\"]) / df_bat[\"AB\"]\n",
    "df_bat[\"OPS\"] = OnBaseP + Slugging\n",
    "df_bat[\"OPS\"] = df_bat[\"OPS\"].fillna(0)\n",
    "\n",
    "df_bat[\"NextYearOPS\"] = df_bat[\"OPS\"].shift(-1)\n",
    "\n",
    "\n",
    "players = df_bat[\"playerID\"]\n",
    "df = remove_last_year_for_each_player(df_bat, players)\n",
    "y = df[\"NextYearOPS\"]\n",
    "df = df.drop(columns=[\"NextYearOPS\"])"
   ]
  },
  {
   "cell_type": "code",
   "execution_count": 234,
   "metadata": {},
   "outputs": [],
   "source": [
    "players = df[\"playerID\"]\n",
    "\n",
    "df = df.drop(columns=[\"Unnamed: 0\", \"playerID\", \"yearID\", \"stint\", \"teamID\", \"lgID\", \"G\", \"debut\", \"years_of_experience\"])\n",
    "\n",
    "constant_stats_columns = ['birthYear', 'weight', 'height', 'current_age']\n",
    "yearly_stats_columns = [\"AB\", \"R\", \"H\", \"2B\", \"3B\", \"HR\", \"RBI\", \"SB\", \"CS\", \"BB\", \"SO\", \"IBB\", \"HBP\", \"SH\", \"SF\", \"GIDP\", \"OPS\"]\n",
    "n_yearly_stats_columns = len(yearly_stats_columns)\n",
    "\n",
    "columns = constant_stats_columns + list(map(lambda x: x + \"1\", yearly_stats_columns)) + list(map(lambda x: x + \"2\", yearly_stats_columns)) + list(map(lambda x: x + \"3\", yearly_stats_columns))"
   ]
  },
  {
   "cell_type": "code",
   "execution_count": 235,
   "metadata": {},
   "outputs": [],
   "source": [
    "constant_stats_df = df[constant_stats_columns]\n",
    "yearly_stats_df = df[yearly_stats_columns]\n",
    "window_3_years = pd.DataFrame(columns=columns)"
   ]
  },
  {
   "cell_type": "code",
   "execution_count": 236,
   "metadata": {},
   "outputs": [],
   "source": [
    "last_cutoff = 0\n",
    "sequences = []\n",
    "labels = []\n",
    "input_size = len(df.columns)\n",
    "window_size = 3\n",
    "\n",
    "\n",
    "years_before = 0\n",
    "for i in range(0, len(players)):\n",
    "    constant_info = constant_stats_df.loc[i,:].tolist()\n",
    "    \n",
    "    if i > 0 and players[i] != players[i-1]:\n",
    "        years_before = 0\n",
    "    \n",
    "    how_many_years_to_skip = max((window_size - years_before) - 1, 0)\n",
    "    how_many_years_back_to_go = min(window_size - 1, years_before)\n",
    "    \n",
    "    for j in range(0, how_many_years_to_skip):\n",
    "        constant_info += ([0] * n_yearly_stats_columns)\n",
    "    \n",
    "    for j in range(0, how_many_years_back_to_go + 1):\n",
    "        constant_info += yearly_stats_df.loc[i-j, :].tolist()\n",
    "        \n",
    "    window_3_years.loc[i] = constant_info\n",
    "    years_before += 1"
   ]
  },
  {
   "cell_type": "code",
   "execution_count": 237,
   "metadata": {},
   "outputs": [],
   "source": [
    "from sklearn.model_selection import train_test_split\n",
    "from sklearn.neighbors import KNeighborsRegressor\n",
    "from sklearn.metrics import mean_squared_error"
   ]
  },
  {
   "cell_type": "code",
   "execution_count": 238,
   "metadata": {},
   "outputs": [],
   "source": [
    "X = window_3_years\n",
    "X_train, X_test, y_train, y_test = train_test_split(X, y, test_size=0.3, shuffle=False)"
   ]
  },
  {
   "cell_type": "code",
   "execution_count": 239,
   "metadata": {},
   "outputs": [
    {
     "name": "stdout",
     "output_type": "stream",
     "text": [
      "[[3017 4000 1247 ... 8325 2995 3323]\n",
      " [2286  834 1692 ... 7903 4932 7870]\n",
      " [7896 2086 1058 ... 2631 5436 8033]\n",
      " ...\n",
      " [8614 4534 2681 ... 4313 7569 8012]\n",
      " [ 417 1515 2622 ... 2681 7570 8491]\n",
      " [5528 3726  116 ... 7611 2295 7078]]\n"
     ]
    }
   ],
   "source": [
    "knn = KNeighborsRegressor(n_neighbors=15)\n",
    "knn.fit(X_train, y_train)\n",
    "\n",
    "distances, indices = knn.kneighbors(X_test, n_neighbors=15)\n",
    "print(indices)\n"
   ]
  },
  {
   "cell_type": "code",
   "execution_count": 245,
   "metadata": {},
   "outputs": [
    {
     "name": "stdout",
     "output_type": "stream",
     "text": [
      "Players similar to:  parenma01\n",
      "difelmi01 / garcika01 / bordepa01 / bautijo02 / garcica01 / bordepa01 / munsoer01 / cummimi01 / difelmi01 / mirabdo01 / bennega01 / berryse01 / nievewi01 / diazma02 / elsteke01 / \n",
      "Players similar to:  parenma01\n",
      "clarkje01 / benjami01 / byrneer01 / parenma01 / bennega01 / castial01 / molinjo01 / bordepa01 / ibanera01 / duceyro01 / diazma02 / ojedaau01 / moellch01 / hammoje01 / mirabdo01 / \n",
      "Players similar to:  parenma01\n",
      "moellch01 / castrra01 / blanche01 / brosisc01 / mirabdo01 / bakopa01 / castial01 / ibanera01 / hornsa01 / molinjo01 / huntebr01 / espyce01 / cummimi01 / houstty01 / mordemi01 / \n",
      "Players similar to:  parenma01\n",
      "mirabdo01 / huntebr01 / osikke01 / johnsbr01 / olivejo01 / jonesch05 / melvibo01 / betemwi01 / cairomi01 / baineha01 / ledeeri01 / coomero01 / hammoje01 / craigal01 / fabrejo01 / \n",
      "Players similar to:  parenma01\n",
      "diazma02 / huntebr01 / blanche01 / gedmari01 / francbe01 / gomezch02 / mirabdo01 / colbrgr01 / fasansa01 / lopezlu02 / incavpe01 / clarkda05 / griffke01 / kellypa03 / howarda02 / \n",
      "Players similar to:  parenma01\n",
      "overbly01 / davanje02 / bardjo01 / coninje01 / houstty01 / colbrgr01 / castrra01 / incavpe01 / cuddymi01 / ludwiry01 / breamsi01 / denorch01 / jeffere01 / maxweju01 / denorch01 / \n",
      "Players similar to:  parenma01\n",
      "chaveer01 / castrra01 / mieskma01 / moellch01 / ludwiry01 / jamesch02 / hernaca01 / hernaca01 / harrile01 / myersgr01 / colbrgr01 / laneja01 / bakopa01 / mabryjo01 / hernajo01 / \n",
      "Players similar to:  parkeda01\n",
      "matsuhi01 / baineha01 / garvest01 / bellge02 / hrbekke01 / mattido01 / coopece01 / morelke01 / joynewa01 / brookhu01 / bucknbi01 / bradlph01 / murraed02 / murphda05 / hernake01 / \n",
      "Players similar to:  parkeda01\n",
      "matsuhi01 / murphda05 / bellge02 / baineha01 / jacobbr01 / francju01 / joynewa01 / mosebll01 / brunato01 / hrbekke01 / morelke01 / bucknbi01 / hayesvo01 / garvest01 / bagweje01 / \n",
      "Players similar to:  parkeda01\n",
      "cartejo01 / ibanera01 / huffau01 / cartejo01 / cartejo01 / canoro01 / boonebr01 / beltrad01 / butlebi03 / jonesan01 / francje02 / atkinga01 / canoro01 / beltrad01 / mondera01 / \n"
     ]
    }
   ],
   "source": [
    "def get_player(index):\n",
    "    return players[index]\n",
    "\n",
    "show_n = 10\n",
    "_, indices = knn.kneighbors(X_test.iloc[:show_n, :], n_neighbors=15)\n",
    "\n",
    "for i in range(show_n):\n",
    "    player_to_compare = get_player(X_test.iloc[i, :].name)\n",
    "    print(\"Players similar to: \", player_to_compare)\n",
    "    s = \"\"\n",
    "    for player_id in indices[i]:\n",
    "        s += (get_player(player_id) + \" / \")\n",
    "    print(s)\n"
   ]
  },
  {
   "cell_type": "code",
   "execution_count": null,
   "metadata": {},
   "outputs": [
    {
     "name": "stdout",
     "output_type": "stream",
     "text": [
      "mse on 1 nearest-neighboors: 0.044724204724252786%\n",
      "mse on 2 nearest-neighboors: 0.030677569244628833%\n",
      "mse on 3 nearest-neighboors: 0.02668760497664546%\n",
      "mse on 4 nearest-neighboors: 0.024947227103325934%\n",
      "mse on 5 nearest-neighboors: 0.023500876064301585%\n",
      "mse on 6 nearest-neighboors: 0.02264798690186164%\n",
      "mse on 7 nearest-neighboors: 0.022112690876337025%\n",
      "mse on 8 nearest-neighboors: 0.021945793419449452%\n",
      "mse on 9 nearest-neighboors: 0.021711436172593104%\n",
      "mse on 10 nearest-neighboors: 0.021478476183555355%\n",
      "mse on 11 nearest-neighboors: 0.021342939009205194%\n",
      "mse on 12 nearest-neighboors: 0.02117706737052583%\n",
      "mse on 13 nearest-neighboors: 0.021147874197007664%\n",
      "mse on 14 nearest-neighboors: 0.02117067034332813%\n"
     ]
    }
   ],
   "source": [
    "\n",
    "\n",
    "data = []\n",
    "for i in range(1,15):\n",
    "    knn = KNeighborsRegressor(n_neighbors=i)\n",
    "    knn.fit(X_train, y_train)\n",
    "    y_pred = knn.predict(X_test)\n",
    "    mse = mean_squared_error(y_test, y_pred)\n",
    "    print(f'mse on {i} nearest-neighboors: {mse}%')\n",
    "    data.append(mse)\n",
    "    "
   ]
  },
  {
   "cell_type": "code",
   "execution_count": null,
   "metadata": {},
   "outputs": [
    {
     "data": {
      "image/png": "[encoded data removed]",
      "text/plain": [
       "<Figure size 640x480 with 1 Axes>"
      ]
     },
     "metadata": {},
     "output_type": "display_data"
    }
   ],
   "source": [
    "    \n",
    "plt.plot(data)\n",
    "plt.xlabel(\"number of nearest neignboors\")\n",
    "plt.ylabel(\"mse\")\n",
    "plt.title(f\"mse on {predicted_data} with KNN regression\")\n",
    "plt.ylim(0,0.05)\n",
    "plt.show()"
   ]
  }
 ],
 "metadata": {
  "kernelspec": {
   "display_name": "ML",
   "language": "python",
   "name": "python3"
  },
  "language_info": {
   "codemirror_mode": {
    "name": "ipython",
    "version": 3
   },
   "file_extension": ".py",
   "mimetype": "text/x-python",
   "name": "python",
   "nbconvert_exporter": "python",
   "pygments_lexer": "ipython3",
   "version": "3.10.11"
  }
 },
 "nbformat": 4,
 "nbformat_minor": 2
}
