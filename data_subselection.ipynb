{
 "cells": [
  {
   "cell_type": "code",
   "execution_count": 6,
   "metadata": {},
   "outputs": [],
   "source": [
    "# you can run the whole thing and not worry about deleting anything accidentally\n",
    "# changes will only happen in the working_csv_data if the csv file doesn't already exist.\n",
    "# To modify the filtering, find the right function, change it, delete the existing file and rerun the whole thing.\n",
    "\n",
    "import numpy as np\n",
    "import pandas as pd\n",
    "import matplotlib.pyplot as plt\n",
    "\n",
    "from utils import read_table\n",
    "import os"
   ]
  },
  {
   "cell_type": "code",
   "execution_count": 7,
   "metadata": {},
   "outputs": [],
   "source": [
    "latest_acceptable_year = 1985\n",
    "\n",
    "# Basic use case of this function is to simply pass the table_name argument and it will transfer the table, doing nothing to change it\n",
    "def transfer_table_to_working_data(table_name, func=None, columns_to_keep=None):\n",
    "    # you can pass a function that filters out rows based on some conditions\n",
    "    # if columns_to_keep is None, all columns are KEPT\n",
    "    new_file_path = \"working_csv_data/\" + table_name + \".csv\"\n",
    "    if not os.path.exists(new_file_path):\n",
    "        \n",
    "        if func == None: \n",
    "            df = read_table(table_name, selected_columns=columns_to_keep, read_from_archive = True)\n",
    "        else:\n",
    "            df = func(read_table(table_name, read_from_archive = True))\n",
    "            if columns_to_keep != None: df = df[columns_to_keep]\n",
    "                \n",
    "        df.to_csv(new_file_path, index=False)\n",
    "        "
   ]
  },
  {
   "cell_type": "code",
   "execution_count": 8,
   "metadata": {},
   "outputs": [],
   "source": [
    "def filter_Master_table(df):\n",
    "    # remove the few (220) players for which the bbrefID is not the same for some reason, not sure what it does anyway\n",
    "    df[\"is_equal\"] = df.apply(lambda row: row[\"playerID\"] == row[\"bbrefID\"], axis=1)\n",
    "    df = df[(df[\"is_equal\"])]\n",
    "\n",
    "    # remove all players who didn't play after the \"latest_acceptable_year\"\n",
    "    df[\"finalGame\"] =  df[\"finalGame\"].fillna(\"2015-01-01\")\n",
    "    df[\"is_after_latest_year\"] = df.apply(lambda row: int(row[\"finalGame\"][:4]) >= latest_acceptable_year, axis=1)\n",
    "    df = df[(df[\"is_after_latest_year\"])]\n",
    "    \n",
    "    return df\n",
    "\n",
    "transfer_table_to_working_data(\"Master\", func=filter_Master_table, columns_to_keep = [\"playerID\", \"birthYear\", \"nameFirst\", \"nameLast\", \"weight\", \"height\", \"bats\", \"throws\", \"debut\"])"
   ]
  },
  {
   "cell_type": "code",
   "execution_count": 9,
   "metadata": {},
   "outputs": [],
   "source": [
    "def filter_Salaries_table(df):\n",
    "    df[\"is_recent_enough\"] = df.apply(lambda row: int(row[\"yearID\"]) >= latest_acceptable_year, axis=1)\n",
    "    df = df[df[\"is_recent_enough\"]]\n",
    "    df = df.drop(columns=[\"is_recent_enough\"])\n",
    "    return df\n",
    "    \n",
    "transfer_table_to_working_data(\"Salaries\", func=filter_Salaries_table)"
   ]
  },
  {
   "cell_type": "code",
   "execution_count": 10,
   "metadata": {},
   "outputs": [
    {
     "name": "stderr",
     "output_type": "stream",
     "text": [
      "C:\\Users\\Antoine\\AppData\\Local\\Temp\\ipykernel_23824\\1587462592.py:12: SettingWithCopyWarning: \n",
      "A value is trying to be set on a copy of a slice from a DataFrame.\n",
      "Try using .loc[row_indexer,col_indexer] = value instead\n",
      "\n",
      "See the caveats in the documentation: https://pandas.pydata.org/pandas-docs/stable/user_guide/indexing.html#returning-a-view-versus-a-copy\n",
      "  df[\"has_played_enough\"] = df.apply(lambda row: row[\"playerID\"] in playerID_to_keep, axis=1)\n"
     ]
    }
   ],
   "source": [
    "def filter_Batting_table(df):\n",
    "    \n",
    "    # removing stats from old ass years\n",
    "    df[\"is_recent_enough\"] = df.apply(lambda row: int(row[\"yearID\"]) >= latest_acceptable_year, axis=1)\n",
    "    df = df[df[\"is_recent_enough\"]]\n",
    "    \n",
    "\n",
    "    # removing the players who have not gone to home base enough\n",
    "    at_base_agglo_data = df[[\"playerID\", \"AB\"]].groupby(['playerID']).sum()\n",
    "    at_base_agglo_data[\"keep\"] = at_base_agglo_data[\"AB\"].apply(lambda x: np.log10(x + 1.) > 3) # cutoff can be changed up to have a bigger proportion of \"elite\" players in the dataset\n",
    "    playerID_to_keep = at_base_agglo_data.index[at_base_agglo_data['keep']].tolist()\n",
    "    df[\"has_played_enough\"] = df.apply(lambda row: row[\"playerID\"] in playerID_to_keep, axis=1) \n",
    "    df = df[df[\"has_played_enough\"]]\n",
    "    \n",
    "    \n",
    "    # we can do this because only the float columns contain nans, i checked\n",
    "    df = df.fillna(0.0)\n",
    "    \n",
    "    # clean up\n",
    "    df = df.drop(columns=[\"is_recent_enough\"])\n",
    "    df = df.drop(columns=[\"has_played_enough\"])\n",
    "    df = df.sort_values(by=['playerID', 'yearID'])\n",
    "\n",
    "    return df\n",
    "    \n",
    "transfer_table_to_working_data(\"Batting\", func=filter_Batting_table)"
   ]
  }
 ],
 "metadata": {
  "kernelspec": {
   "display_name": "ML",
   "language": "python",
   "name": "python3"
  },
  "language_info": {
   "codemirror_mode": {
    "name": "ipython",
    "version": 3
   },
   "file_extension": ".py",
   "mimetype": "text/x-python",
   "name": "python",
   "nbconvert_exporter": "python",
   "pygments_lexer": "ipython3",
   "version": "3.10.11"
  }
 },
 "nbformat": 4,
 "nbformat_minor": 2
}
